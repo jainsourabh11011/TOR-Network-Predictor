{
 "cells": [
  {
   "cell_type": "code",
   "execution_count": 33,
   "metadata": {},
   "outputs": [],
   "source": [
    "import numpy as np #for mathematical calculations\n",
    "import pandas as pd\n",
    "import seaborn as sns # For data visualization\n",
    "import matplotlib.pyplot as plt # For plotting graphs\n",
    "import warnings #To ignore the warnings\n",
    "warnings.filterwarnings(\"ignore\")"
   ]
  },
  {
   "cell_type": "code",
   "execution_count": 34,
   "metadata": {},
   "outputs": [],
   "source": [
    "train = pd.read_csv(\"merged_5s.csv\")"
   ]
  },
  {
   "cell_type": "code",
   "execution_count": 35,
   "metadata": {},
   "outputs": [],
   "source": [
    "train_original = train.copy()"
   ]
  },
  {
   "cell_type": "code",
   "execution_count": 36,
   "metadata": {},
   "outputs": [
    {
     "data": {
      "text/plain": [
       "Index(['Source IP', ' Source Port', ' Destination IP', ' Destination Port',\n",
       "       ' Protocol', ' Flow Duration', ' Flow Bytes/s', ' Flow Packets/s',\n",
       "       ' Flow IAT Mean', ' Flow IAT Std', ' Flow IAT Max', ' Flow IAT Min',\n",
       "       'Fwd IAT Mean', ' Fwd IAT Std', ' Fwd IAT Max', ' Fwd IAT Min',\n",
       "       'Bwd IAT Mean', ' Bwd IAT Std', ' Bwd IAT Max', ' Bwd IAT Min',\n",
       "       'Active Mean', ' Active Std', ' Active Max', ' Active Min', 'Idle Mean',\n",
       "       ' Idle Std', ' Idle Max', ' Idle Min', 'label'],\n",
       "      dtype='object')"
      ]
     },
     "execution_count": 36,
     "metadata": {},
     "output_type": "execute_result"
    }
   ],
   "source": [
    "train.columns"
   ]
  },
  {
   "cell_type": "code",
   "execution_count": 37,
   "metadata": {},
   "outputs": [
    {
     "data": {
      "text/plain": [
       "Source IP             object\n",
       " Source Port         float64\n",
       " Destination IP       object\n",
       " Destination Port    float64\n",
       " Protocol            float64\n",
       " Flow Duration       float64\n",
       " Flow Bytes/s        float64\n",
       " Flow Packets/s      float64\n",
       " Flow IAT Mean       float64\n",
       " Flow IAT Std        float64\n",
       " Flow IAT Max        float64\n",
       " Flow IAT Min        float64\n",
       "Fwd IAT Mean         float64\n",
       " Fwd IAT Std         float64\n",
       " Fwd IAT Max         float64\n",
       " Fwd IAT Min         float64\n",
       "Bwd IAT Mean         float64\n",
       " Bwd IAT Std         float64\n",
       " Bwd IAT Max         float64\n",
       " Bwd IAT Min         float64\n",
       "Active Mean          float64\n",
       " Active Std          float64\n",
       " Active Max          float64\n",
       " Active Min          float64\n",
       "Idle Mean            float64\n",
       " Idle Std            float64\n",
       " Idle Max            float64\n",
       " Idle Min            float64\n",
       "label                 object\n",
       "dtype: object"
      ]
     },
     "execution_count": 37,
     "metadata": {},
     "output_type": "execute_result"
    }
   ],
   "source": [
    "train.dtypes"
   ]
  },
  {
   "cell_type": "code",
   "execution_count": 38,
   "metadata": {},
   "outputs": [
    {
     "data": {
      "text/plain": [
       "(84194, 29)"
      ]
     },
     "execution_count": 38,
     "metadata": {},
     "output_type": "execute_result"
    }
   ],
   "source": [
    "train.shape"
   ]
  },
  {
   "cell_type": "code",
   "execution_count": 39,
   "metadata": {},
   "outputs": [
    {
     "data": {
      "text/plain": [
       "nonTOR    69679\n",
       "TOR       14507\n",
       "Name: label, dtype: int64"
      ]
     },
     "execution_count": 39,
     "metadata": {},
     "output_type": "execute_result"
    }
   ],
   "source": [
    "train['label'].value_counts()"
   ]
  },
  {
   "cell_type": "code",
   "execution_count": 40,
   "metadata": {},
   "outputs": [],
   "source": [
    "train.drop(train.tail(8).index,inplace=True)"
   ]
  },
  {
   "cell_type": "code",
   "execution_count": 41,
   "metadata": {},
   "outputs": [
    {
     "data": {
      "text/plain": [
       "nonTOR    0.827679\n",
       "TOR       0.172321\n",
       "Name: label, dtype: float64"
      ]
     },
     "execution_count": 41,
     "metadata": {},
     "output_type": "execute_result"
    }
   ],
   "source": [
    "train['label'].value_counts(normalize=True)"
   ]
  },
  {
   "cell_type": "code",
   "execution_count": 42,
   "metadata": {},
   "outputs": [
    {
     "data": {
      "text/plain": [
       "<matplotlib.axes._subplots.AxesSubplot at 0x1ea9a033908>"
      ]
     },
     "execution_count": 42,
     "metadata": {},
     "output_type": "execute_result"
    },
    {
     "data": {
      "image/png": "[encoded data removed]",
      "text/plain": [
       "<Figure size 432x288 with 1 Axes>"
      ]
     },
     "metadata": {
      "needs_background": "light"
     },
     "output_type": "display_data"
    }
   ],
   "source": [
    "train['label'].value_counts().plot.bar()"
   ]
  },
  {
   "cell_type": "code",
   "execution_count": 43,
   "metadata": {},
   "outputs": [
    {
     "data": {
      "text/plain": [
       "<matplotlib.axes._subplots.AxesSubplot at 0x1eaa85121c8>"
      ]
     },
     "execution_count": 43,
     "metadata": {},
     "output_type": "execute_result"
    },
    {
     "data": {
      "image/png": "[encoded data removed]",
      "text/plain": [
       "<Figure size 432x288 with 1 Axes>"
      ]
     },
     "metadata": {
      "needs_background": "light"
     },
     "output_type": "display_data"
    }
   ],
   "source": [
    "train[' Protocol'].value_counts().plot.bar()"
   ]
  },
  {
   "cell_type": "code",
   "execution_count": 44,
   "metadata": {},
   "outputs": [
    {
     "data": {
      "text/plain": [
       "Source IP            0\n",
       " Source Port         0\n",
       " Destination IP      0\n",
       " Destination Port    0\n",
       " Protocol            0\n",
       " Flow Duration       0\n",
       " Flow Bytes/s        0\n",
       " Flow Packets/s      0\n",
       " Flow IAT Mean       0\n",
       " Flow IAT Std        0\n",
       " Flow IAT Max        0\n",
       " Flow IAT Min        0\n",
       "Fwd IAT Mean         0\n",
       " Fwd IAT Std         0\n",
       " Fwd IAT Max         0\n",
       " Fwd IAT Min         0\n",
       "Bwd IAT Mean         0\n",
       " Bwd IAT Std         0\n",
       " Bwd IAT Max         0\n",
       " Bwd IAT Min         0\n",
       "Active Mean          0\n",
       " Active Std          0\n",
       " Active Max          0\n",
       " Active Min          0\n",
       "Idle Mean            0\n",
       " Idle Std            0\n",
       " Idle Max            0\n",
       " Idle Min            0\n",
       "label                0\n",
       "dtype: int64"
      ]
     },
     "execution_count": 44,
     "metadata": {},
     "output_type": "execute_result"
    }
   ],
   "source": [
    "train.isnull().sum()"
   ]
  },
  {
   "cell_type": "code",
   "execution_count": 45,
   "metadata": {},
   "outputs": [],
   "source": [
    "def f(row):\n",
    "    if row[' Protocol']==6:\n",
    "        val=0\n",
    "    else:\n",
    "        val=1\n",
    "    return val\n",
    "train[' Protocol'] = train.apply(f,axis=1)"
   ]
  },
  {
   "cell_type": "code",
   "execution_count": 46,
   "metadata": {},
   "outputs": [],
   "source": [
    "from sklearn import preprocessing\n",
    "label_encoder = preprocessing.LabelEncoder()\n",
    "train[\"label\"] = label_encoder.fit_transform(train[\"label\"])"
   ]
  },
  {
   "cell_type": "code",
   "execution_count": 47,
   "metadata": {},
   "outputs": [],
   "source": [
    "def n(row):\n",
    " if row['label']==1:\n",
    "     val=0\n",
    " else:\n",
    "     val=1\n",
    " return val\n",
    "train['label'] = train.apply(n,axis=1)"
   ]
  },
  {
   "cell_type": "code",
   "execution_count": 48,
   "metadata": {},
   "outputs": [],
   "source": [
    "X = train.drop(['Source IP',' Source Port',' Destination IP',' Destination Port', 'label'],axis = 1)\n",
    "Y = train.label"
   ]
  },
  {
   "cell_type": "code",
   "execution_count": 49,
   "metadata": {},
   "outputs": [],
   "source": [
    "from sklearn.model_selection import train_test_split\n",
    "X_train, X_test, y_train, y_test = train_test_split(X, Y, test_size=0.3, random_state=27)"
   ]
  },
  {
   "cell_type": "code",
   "execution_count": 50,
   "metadata": {},
   "outputs": [
    {
     "data": {
      "text/plain": [
       "LogisticRegression(C=1.0, class_weight=None, dual=False, fit_intercept=True,\n",
       "                   intercept_scaling=1, l1_ratio=None, max_iter=100,\n",
       "                   multi_class='auto', n_jobs=None, penalty='l2',\n",
       "                   random_state=None, solver='lbfgs', tol=0.0001, verbose=0,\n",
       "                   warm_start=False)"
      ]
     },
     "execution_count": 50,
     "metadata": {},
     "output_type": "execute_result"
    }
   ],
   "source": [
    "from sklearn.linear_model import LogisticRegression\n",
    "from sklearn.metrics import accuracy_score\n",
    "model = LogisticRegression()\n",
    "model.fit(X_train, y_train)"
   ]
  },
  {
   "cell_type": "code",
   "execution_count": 51,
   "metadata": {},
   "outputs": [
    {
     "data": {
      "text/plain": [
       "0.652492227459633"
      ]
     },
     "execution_count": 51,
     "metadata": {},
     "output_type": "execute_result"
    }
   ],
   "source": [
    "pred_cv = model.predict(X_test)\n",
    "from sklearn.metrics import f1_score\n",
    "f1_score(y_test, pred_cv)\n"
   ]
  },
  {
   "cell_type": "code",
   "execution_count": 52,
   "metadata": {},
   "outputs": [
    {
     "data": {
      "text/plain": [
       "0.9687464224384659"
      ]
     },
     "execution_count": 52,
     "metadata": {},
     "output_type": "execute_result"
    }
   ],
   "source": [
    "from sklearn.ensemble import RandomForestClassifier\n",
    "clf=RandomForestClassifier(n_estimators=100)\n",
    "clf.fit(X_train,y_train)\n",
    "y_pred=clf.predict(X_test)\n",
    "f1_score(y_test, y_pred)"
   ]
  },
  {
   "cell_type": "code",
   "execution_count": 53,
   "metadata": {
    "scrolled": false
   },
   "outputs": [],
   "source": [
    "import tensorflow as tf\n",
    "from keras.layers import Dense"
   ]
  },
  {
   "cell_type": "code",
   "execution_count": 54,
   "metadata": {
    "scrolled": true
   },
   "outputs": [],
   "source": [
    "from keras import backend as K\n",
    "def f1(y_true, y_pred):\n",
    " def recall(y_true, y_pred):\n",
    "     true_positives = K.sum(K.round(K.clip(y_true * y_pred, 0, 1)))\n",
    "     possible_positives = K.sum(K.round(K.clip(y_true, 0, 1)))\n",
    "     recall = true_positives / (possible_positives + K.epsilon())\n",
    "     return recall\n",
    " def precision(y_true, y_pred):\n",
    "     true_positives = K.sum(K.round(K.clip(y_true * y_pred, 0, 1)))\n",
    "     predicted_positives = K.sum(K.round(K.clip(y_pred, 0, 1)))\n",
    "     precision = true_positives / (predicted_positives + K.epsilon())\n",
    "     return precision\n",
    " precision = precision(y_true, y_pred)\n",
    " recall = recall(y_true, y_pred)\n",
    " return 2*((precision*recall)/(precision+recall+K.epsilon()))\n"
   ]
  },
  {
   "cell_type": "code",
   "execution_count": 55,
   "metadata": {},
   "outputs": [],
   "source": [
    "from sklearn.preprocessing import StandardScaler\n",
    "sc = StandardScaler()\n",
    "X_train = sc.fit_transform(X_train) \n",
    "X_test = sc.transform(X_test)"
   ]
  },
  {
   "cell_type": "code",
   "execution_count": 56,
   "metadata": {},
   "outputs": [
    {
     "name": "stdout",
     "output_type": "stream",
     "text": [
      "24\n"
     ]
    }
   ],
   "source": [
    "INPUT_DIM = X_train.shape[1]\n",
    "batch_size = 128\n",
    "epochs = 50\n",
    "print (INPUT_DIM)"
   ]
  },
  {
   "cell_type": "code",
   "execution_count": 57,
   "metadata": {
    "scrolled": false
   },
   "outputs": [
    {
     "name": "stdout",
     "output_type": "stream",
     "text": [
      "Epoch 1/50\n",
      "58930/58930 [==============================] - 1s 12us/step - loss: 0.3642 - f1: 0.0000e+00\n",
      "Epoch 2/50\n",
      "58930/58930 [==============================] - 0s 8us/step - loss: 0.1870 - f1: 0.7063\n",
      "Epoch 3/50\n",
      "58930/58930 [==============================] - 0s 8us/step - loss: 0.1597 - f1: 0.7906\n",
      "Epoch 4/50\n",
      "58930/58930 [==============================] - 0s 8us/step - loss: 0.1509 - f1: 0.8041\n",
      "Epoch 5/50\n",
      "58930/58930 [==============================] - 0s 8us/step - loss: 0.1402 - f1: 0.8137\n",
      "Epoch 6/50\n",
      "58930/58930 [==============================] - 1s 9us/step - loss: 0.1329 - f1: 0.8235\n",
      "Epoch 7/50\n",
      "58930/58930 [==============================] - 0s 8us/step - loss: 0.1272 - f1: 0.8364\n",
      "Epoch 8/50\n",
      "58930/58930 [==============================] - 0s 8us/step - loss: 0.1238 - f1: 0.8447\n",
      "Epoch 9/50\n",
      "58930/58930 [==============================] - 0s 8us/step - loss: 0.1211 - f1: 0.8497\n",
      "Epoch 10/50\n",
      "58930/58930 [==============================] - 0s 8us/step - loss: 0.1194 - f1: 0.8553\n",
      "Epoch 11/50\n",
      "58930/58930 [==============================] - 0s 8us/step - loss: 0.1175 - f1: 0.8572\n",
      "Epoch 12/50\n",
      "58930/58930 [==============================] - 0s 8us/step - loss: 0.1148 - f1: 0.8601\n",
      "Epoch 13/50\n",
      "58930/58930 [==============================] - 0s 8us/step - loss: 0.1136 - f1: 0.8603\n",
      "Epoch 14/50\n",
      "58930/58930 [==============================] - 0s 8us/step - loss: 0.1133 - f1: 0.8610\n",
      "Epoch 15/50\n",
      "58930/58930 [==============================] - 0s 8us/step - loss: 0.1110 - f1: 0.8645\n",
      "Epoch 16/50\n",
      "58930/58930 [==============================] - 0s 8us/step - loss: 0.1092 - f1: 0.8663\n",
      "Epoch 17/50\n",
      "58930/58930 [==============================] - 0s 8us/step - loss: 0.1078 - f1: 0.8680\n",
      "Epoch 18/50\n",
      "58930/58930 [==============================] - 0s 8us/step - loss: 0.1061 - f1: 0.8692\n",
      "Epoch 19/50\n",
      "58930/58930 [==============================] - 0s 8us/step - loss: 0.1070 - f1: 0.8691\n",
      "Epoch 20/50\n",
      "58930/58930 [==============================] - 0s 7us/step - loss: 0.1045 - f1: 0.8691\n",
      "Epoch 21/50\n",
      "58930/58930 [==============================] - 0s 7us/step - loss: 0.1035 - f1: 0.8714\n",
      "Epoch 22/50\n",
      "58930/58930 [==============================] - 0s 7us/step - loss: 0.1026 - f1: 0.8743\n",
      "Epoch 23/50\n",
      "58930/58930 [==============================] - 0s 7us/step - loss: 0.1018 - f1: 0.8753\n",
      "Epoch 24/50\n",
      "58930/58930 [==============================] - 0s 8us/step - loss: 0.1012 - f1: 0.8751\n",
      "Epoch 25/50\n",
      "58930/58930 [==============================] - 0s 7us/step - loss: 0.1007 - f1: 0.8754\n",
      "Epoch 26/50\n",
      "58930/58930 [==============================] - 0s 8us/step - loss: 0.0993 - f1: 0.8765\n",
      "Epoch 27/50\n",
      "58930/58930 [==============================] - 0s 7us/step - loss: 0.0977 - f1: 0.8802\n",
      "Epoch 28/50\n",
      "58930/58930 [==============================] - 0s 8us/step - loss: 0.0973 - f1: 0.8810\n",
      "Epoch 29/50\n",
      "58930/58930 [==============================] - 0s 7us/step - loss: 0.0968 - f1: 0.8823\n",
      "Epoch 30/50\n",
      "58930/58930 [==============================] - 0s 8us/step - loss: 0.0961 - f1: 0.8809\n",
      "Epoch 31/50\n",
      "58930/58930 [==============================] - 0s 7us/step - loss: 0.0957 - f1: 0.8845\n",
      "Epoch 32/50\n",
      "58930/58930 [==============================] - 0s 7us/step - loss: 0.0954 - f1: 0.8827\n",
      "Epoch 33/50\n",
      "58930/58930 [==============================] - 0s 7us/step - loss: 0.0954 - f1: 0.8849\n",
      "Epoch 34/50\n",
      "58930/58930 [==============================] - 0s 7us/step - loss: 0.0938 - f1: 0.8851\n",
      "Epoch 35/50\n",
      "58930/58930 [==============================] - 0s 8us/step - loss: 0.0940 - f1: 0.8852\n",
      "Epoch 36/50\n",
      "58930/58930 [==============================] - 0s 8us/step - loss: 0.0930 - f1: 0.8870\n",
      "Epoch 37/50\n",
      "58930/58930 [==============================] - 0s 8us/step - loss: 0.0931 - f1: 0.8864\n",
      "Epoch 38/50\n",
      "58930/58930 [==============================] - 0s 8us/step - loss: 0.0934 - f1: 0.8874\n",
      "Epoch 39/50\n",
      "58930/58930 [==============================] - 0s 7us/step - loss: 0.0933 - f1: 0.8854\n",
      "Epoch 40/50\n",
      "58930/58930 [==============================] - 0s 8us/step - loss: 0.0921 - f1: 0.8869\n",
      "Epoch 41/50\n",
      "58930/58930 [==============================] - 0s 8us/step - loss: 0.0905 - f1: 0.8893\n",
      "Epoch 42/50\n",
      "58930/58930 [==============================] - 0s 8us/step - loss: 0.0913 - f1: 0.8877\n",
      "Epoch 43/50\n",
      "58930/58930 [==============================] - 0s 8us/step - loss: 0.0923 - f1: 0.8855\n",
      "Epoch 44/50\n",
      "58930/58930 [==============================] - 0s 8us/step - loss: 0.0907 - f1: 0.8887\n",
      "Epoch 45/50\n",
      "58930/58930 [==============================] - 0s 8us/step - loss: 0.0901 - f1: 0.8896\n",
      "Epoch 46/50\n",
      "58930/58930 [==============================] - 0s 8us/step - loss: 0.0901 - f1: 0.8890\n",
      "Epoch 47/50\n",
      "58930/58930 [==============================] - 0s 8us/step - loss: 0.0891 - f1: 0.8914\n",
      "Epoch 48/50\n",
      "58930/58930 [==============================] - 0s 8us/step - loss: 0.0906 - f1: 0.8858\n",
      "Epoch 49/50\n",
      "58930/58930 [==============================] - 0s 8us/step - loss: 0.0893 - f1: 0.8897\n",
      "Epoch 50/50\n",
      "58930/58930 [==============================] - 0s 8us/step - loss: 0.0893 - f1: 0.8907\n"
     ]
    },
    {
     "data": {
      "text/plain": [
       "<keras.callbacks.callbacks.History at 0x1ea9be65b08>"
      ]
     },
     "execution_count": 57,
     "metadata": {},
     "output_type": "execute_result"
    }
   ],
   "source": [
    "from keras.models import Sequential\n",
    "model = Sequential()\n",
    "model.add(Dense(10, kernel_initializer = 'uniform', input_dim=INPUT_DIM, activation='relu'))\n",
    "model.add(Dense(10, kernel_initializer = 'uniform', activation='relu'))\n",
    "model.add(Dense(10, kernel_initializer = 'uniform', activation='relu'))\n",
    "model.add(Dense(10, kernel_initializer = 'uniform', activation='relu'))\n",
    "model.add(Dense(10, kernel_initializer = 'uniform', activation='relu'))\n",
    "model.add(Dense(1,kernel_initializer = 'uniform', activation='sigmoid'))\n",
    "model.compile(loss='binary_crossentropy', optimizer='adam', metrics=[f1])\n",
    "model.fit(X_train, y_train, epochs=epochs, batch_size=batch_size, verbose=1)"
   ]
  },
  {
   "cell_type": "code",
   "execution_count": 58,
   "metadata": {},
   "outputs": [],
   "source": [
    "from sklearn.metrics import f1_score\n",
    "y_pred = model.predict(X_test)"
   ]
  },
  {
   "cell_type": "code",
   "execution_count": 59,
   "metadata": {},
   "outputs": [],
   "source": [
    "y_pred =(y_pred>0.5)"
   ]
  },
  {
   "cell_type": "code",
   "execution_count": 60,
   "metadata": {},
   "outputs": [
    {
     "name": "stdout",
     "output_type": "stream",
     "text": [
      "[[20440   435]\n",
      " [  431  3950]]\n"
     ]
    }
   ],
   "source": [
    "from sklearn.metrics import confusion_matrix\n",
    "cm = confusion_matrix(y_test, y_pred)\n",
    "print(cm)"
   ]
  },
  {
   "cell_type": "code",
   "execution_count": 61,
   "metadata": {},
   "outputs": [
    {
     "name": "stdout",
     "output_type": "stream",
     "text": [
      "0.9012092174309834\n"
     ]
    }
   ],
   "source": [
    "test_f1score_val = f1_score(y_test, y_pred)\n",
    "print(test_f1score_val)"
   ]
  },
  {
   "cell_type": "code",
   "execution_count": 62,
   "metadata": {},
   "outputs": [
    {
     "name": "stdout",
     "output_type": "stream",
     "text": [
      "              precision    recall  f1-score   support\n",
      "\n",
      "           0       0.98      0.98      0.98     20875\n",
      "           1       0.90      0.90      0.90      4381\n",
      "\n",
      "    accuracy                           0.97     25256\n",
      "   macro avg       0.94      0.94      0.94     25256\n",
      "weighted avg       0.97      0.97      0.97     25256\n",
      "\n"
     ]
    }
   ],
   "source": [
    "from sklearn.metrics import classification_report\n",
    "print(classification_report(y_test, y_pred))"
   ]
  },
  {
   "cell_type": "code",
   "execution_count": null,
   "metadata": {},
   "outputs": [],
   "source": []
  }
 ],
 "metadata": {
  "kernelspec": {
   "display_name": "Python 3",
   "language": "python",
   "name": "python3"
  },
  "language_info": {
   "codemirror_mode": {
    "name": "ipython",
    "version": 3
   },
   "file_extension": ".py",
   "mimetype": "text/x-python",
   "name": "python",
   "nbconvert_exporter": "python",
   "pygments_lexer": "ipython3",
   "version": "3.7.6"
  }
 },
 "nbformat": 4,
 "nbformat_minor": 4
}
